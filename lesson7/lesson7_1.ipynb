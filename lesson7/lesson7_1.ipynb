{
 "cells": [
  {
   "cell_type": "code",
   "execution_count": 3,
   "metadata": {},
   "outputs": [
    {
     "name": "stdout",
     "output_type": "stream",
     "text": [
      "\"city\",\"area\",\"reading_room\",\"address\"\n",
      "\"新北市\",\"三峽區\",\"新北市立圖書館（三峽分館）\",\"新北市三峽區永安街9巷5號 2樓\"\n",
      "\"新北市\",\"坪林區\",\"新北市立圖書館（坪林分館）\",\"新北市坪林區國中路3號\"\n",
      "\"新北市\",\"泰山區\",\"新北市立圖書館（泰山分館）\",\"新北市泰山區全興路212號5樓\"\n",
      "\"新北市\",\"烏來區\",\"新北市立圖書館（烏來分館）\",\"新北市烏來區烏來街34號2樓\"\n",
      "\"新北市\",\"淡水區\",\"新北市立圖書館（淡水分館）\",\"新北市淡水區文化路65號\"\n",
      "\"新北市\",\"新店區\",\"新北市立圖書館（新店分館）\",\"新北市新店區北新路3段105巷2號3樓\"\n",
      "\"新北市\",\"萬里區\",\"新北市立圖書館（萬里分館）\",\"新北市萬里區瑪鋉路221號4樓\"\n",
      "\"新北市\",\"蘆洲區\",\"新北市立圖書館（蘆洲分館）\",\"新北市蘆洲區集賢路245號4樓\"\n",
      "\"新北市\",\"鶯歌區\",\"新北市立圖書館（鶯歌分館）\",\"新北市鶯歌區中山路150號3樓\"\n",
      "\"新北市\",\"林口區\",\"新北市立圖書館（林口分館）\",\"新北市林口區忠孝二路55號4樓\"\n",
      "\"新北市\",\"板橋區\",\"新北市立圖書總館\",\"新北市板橋區貴興路139號\"\n",
      "\"新北市\",\"中和區\",\"中央圖書館臺灣分館\",\"新北市中和區中安街85號\"\n",
      "\"臺北市\",\"中正區\",\"國家圖書館\",\"臺北市中山南路20號\"\n",
      "\n"
     ]
    }
   ],
   "source": [
    "import requests\n",
    "url = \"https://data.ntpc.gov.tw/api/datasets/4a03827a-588b-4058-ab21-ec02283e2bb7/csv?page=0&size=1000\"\n",
    "r = requests.get(url)\n",
    "print(r.text)"
   ]
  }
 ],
 "metadata": {
  "kernelspec": {
   "display_name": "base",
   "language": "python",
   "name": "python3"
  },
  "language_info": {
   "codemirror_mode": {
    "name": "ipython",
    "version": 3
   },
   "file_extension": ".py",
   "mimetype": "text/x-python",
   "name": "python",
   "nbconvert_exporter": "python",
   "pygments_lexer": "ipython3",
   "version": "3.12.7"
  }
 },
 "nbformat": 4,
 "nbformat_minor": 2
}
