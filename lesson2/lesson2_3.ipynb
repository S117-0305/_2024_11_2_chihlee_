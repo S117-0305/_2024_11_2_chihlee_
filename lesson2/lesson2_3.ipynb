{
 "cells": [
  {
   "cell_type": "code",
   "execution_count": null,
   "metadata": {},
   "outputs": [
    {
     "name": "stdout",
     "output_type": "stream",
     "text": [
      "學生的分數是:262.5分\n",
      "學生的分數是:262.5分\n",
      "應用程式結束\n"
     ]
    }
   ],
   "source": [
    "#學生總分為300\n",
    "#有些學生可以加分5%\n",
    "#如果加分超過300，就已300分為準\n",
    "\n",
    "try:\n",
    "    scores = int(input('請輸入學生分數(最高300分):'))    \n",
    "except Exception:\n",
    "    print(\"發生錯誤!\")\n",
    "else:    \n",
    "    is_add = input('學生是否符合加分條件?(y,n)')\n",
    "\n",
    "    if is_add == 'y':\n",
    "        scores = scores * 1.05\n",
    "        if scores > 300:\n",
    "            scores = 300\n",
    "\n",
    "    print(\"學生的分數是:\" + str(scores)+\"分\")\n",
    "    print(f\"學生的分數是:{scores}分\")\n",
    "\n",
    "\n",
    "print(\"應用程式結束\")"
   ]
  },
  {
   "cell_type": "code",
   "execution_count": 19,
   "metadata": {},
   "outputs": [
    {
     "name": "stdout",
     "output_type": "stream",
     "text": [
      "不及格!\n"
     ]
    }
   ],
   "source": [
    "#不及格 = 60 > scores\n",
    "#及格 = 60 < scores < 90\n",
    "#特優 = scores > 90\n",
    "\n",
    "scores = int(input(\"請輸入您的分數:\"))\n",
    "if scores >= 90:\n",
    "    print(\"特優!\")\n",
    "elif scores >= 60: \n",
    "    print(\"及格!\")\n",
    "else:\n",
    "    print(\"不及格!\")\n",
    "    \n",
    "      "
   ]
  },
  {
   "cell_type": "code",
   "execution_count": 26,
   "metadata": {},
   "outputs": [
    {
     "name": "stdout",
     "output_type": "stream",
     "text": [
      "乙!\n"
     ]
    }
   ],
   "source": [
    "scores = int(input(\"請輸入您的分數:\"))\n",
    "if scores >= 90:\n",
    "    print(\"優!\")\n",
    "elif scores >= 80: \n",
    "    print(\"甲!\")\n",
    "elif scores >= 70:\n",
    "    print(\"乙!\")\n",
    "elif scores >= 60:\n",
    "    print(\"丙!\")\n",
    "else:\n",
    "    print(\"丁!\")\n"
   ]
  },
  {
   "cell_type": "code",
   "execution_count": 6,
   "metadata": {},
   "outputs": [
    {
     "name": "stdout",
     "output_type": "stream",
     "text": [
      "獎金:1000元\n"
     ]
    }
   ],
   "source": [
    "#巢狀判斷\n",
    "#國文100分，同時數學100分，獎金1000\n",
    "#國文100分，或數學100分，獎金1000\n",
    "#不然0\n",
    "\n",
    "chinese = int(input(\"請輸入國文分數:\"))\n",
    "math = int(input(\"請輸入數學分數:\"))\n",
    "\n",
    "if chinese == 100:\n",
    "    if math == 100:\n",
    "        bonus = 1000\n",
    "    else:\n",
    "        bonus = 500\n",
    "elif math == 100:\n",
    "    bonus =500\n",
    "else:\n",
    "    bonus = 0  \n",
    "\n",
    "print(f\"獎金:{bonus}元\")     "
   ]
  },
  {
   "cell_type": "code",
   "execution_count": 9,
   "metadata": {},
   "outputs": [
    {
     "name": "stdout",
     "output_type": "stream",
     "text": [
      "獎金:0元\n"
     ]
    }
   ],
   "source": [
    "#邏輯運算子\n",
    "#國文100分，同時數學100分，獎金1000\n",
    "#國文100分，或數學100分，獎金1000\n",
    "#不然0\n",
    "\n",
    "chinese = int(input(\"請輸入國文分數:\"))\n",
    "math = int(input(\"請輸入數學分數:\"))\n",
    "\n",
    "if chinese == 100 and math == 100 :\n",
    "    bonus = 1000\n",
    "elif chinese == 100 or math == 100 :\n",
    "    bonus = 500\n",
    "else:\n",
    "    bonus = 0\n",
    "\n",
    "print(f\"獎金:{bonus}元\")    "
   ]
  },
  {
   "cell_type": "code",
   "execution_count": null,
   "metadata": {},
   "outputs": [
    {
     "ename": "SyntaxError",
     "evalue": "expected 'except' or 'finally' block (3879923268.py, line 6)",
     "output_type": "error",
     "traceback": [
      "\u001b[1;36m  Cell \u001b[1;32mIn[18], line 6\u001b[1;36m\u001b[0m\n\u001b[1;33m    if  BMI < 18.5:\u001b[0m\n\u001b[1;37m    ^\u001b[0m\n\u001b[1;31mSyntaxError\u001b[0m\u001b[1;31m:\u001b[0m expected 'except' or 'finally' block\n"
     ]
    }
   ],
   "source": [
    "height = int(input(\"請輸入身高(cm):\"))\n",
    "weight = int(input(\"請輸入體重(kg):\"))\n",
    "BMI = weight / (height/100)**2\n",
    "\n",
    "if  BMI < 18.5:\n",
    "    health == \"體重過輕\"\n",
    "\n",
    "if  18.5 <= BMI < 24:\n",
    "    health == \"正常範圍\"\n",
    "    \n",
    "if  24 <= BMI < 27:\n",
    "    health == \"異常範圍，過重\"\n",
    "    \n",
    "elif  BMI >= 27:\n",
    "    health == \"異常範圍，輕度肥胖\"\n",
    "else:\n",
    "    BMI >= 30:\n",
    "    health == \"異常範圍，中度肥胖\"\n",
    "else:\n",
    "    BMI >= 35:\n",
    "    health == \"異常範圍，重度肥胖\"\n",
    "\n",
    "print(f\"您的身體質量指數為{BMI}，{health}\")\n",
    "    \n"
   ]
  },
  {
   "cell_type": "code",
   "execution_count": 9,
   "metadata": {},
   "outputs": [
    {
     "name": "stdout",
     "output_type": "stream",
     "text": [
      "您的身體質量指數為 35，異常範圍，重度肥胖\n"
     ]
    }
   ],
   "source": [
    "try:\n",
    "    height = int(input(\"請輸入身高(cm): \"))\n",
    "    weight = int(input(\"請輸入體重(kg): \"))\n",
    "    BMI = weight / (height / 100) ** 2\n",
    "\n",
    "    if BMI < 18.5:\n",
    "      health = \"體重過輕\"\n",
    "    elif BMI < 24 :\n",
    "      health = \"正常範圍\"\n",
    "    elif BMI < 27:\n",
    "      health = \"異常範圍，過重\"\n",
    "    elif BMI < 30:\n",
    "      health = \"異常範圍，輕度肥胖\"\n",
    "    elif BMI < 35:\n",
    "      health = \"異常範圍，中度肥胖\"\n",
    "    else:\n",
    "      health = \"異常範圍，重度肥胖\"\n",
    "\n",
    "    print(f\"您的身體質量指數為 {int(BMI)}，{health}\")\n",
    "\n",
    "except Exception:\n",
    "    print(\"發生錯誤!\")"
   ]
  }
 ],
 "metadata": {
  "kernelspec": {
   "display_name": "base",
   "language": "python",
   "name": "python3"
  },
  "language_info": {
   "codemirror_mode": {
    "name": "ipython",
    "version": 3
   },
   "file_extension": ".py",
   "mimetype": "text/x-python",
   "name": "python",
   "nbconvert_exporter": "python",
   "pygments_lexer": "ipython3",
   "version": "3.12.4"
  }
 },
 "nbformat": 4,
 "nbformat_minor": 2
}
