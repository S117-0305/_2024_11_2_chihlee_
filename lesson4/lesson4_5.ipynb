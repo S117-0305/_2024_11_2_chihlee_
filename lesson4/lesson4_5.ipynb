{
 "cells": [
  {
   "cell_type": "code",
   "execution_count": 1,
   "metadata": {},
   "outputs": [
    {
     "name": "stdout",
     "output_type": "stream",
     "text": [
      "您的名字是0\n",
      "您的BMI值是9.91\n",
      "您的體重過輕\n",
      "程式結束\n"
     ]
    }
   ],
   "source": [
    "class BMI:\n",
    "    def __init__(self, name: str, height: int, weight: int):\n",
    "        self.name = name\n",
    "        self.height = height\n",
    "        self.weight = weight  \n",
    "\n",
    "    def get_BMI(self) -> float:\n",
    "        return round(self.weight / (self.height / 100) ** 2, 2)\n",
    "\n",
    "    def get_status(self) -> str:\n",
    "        BMI = self.get_BMI()\n",
    "        if BMI >= 35:\n",
    "            bmi_str = '重度肥胖'\n",
    "        elif BMI >= 30:\n",
    "            bmi_str = '中度肥胖'\n",
    "        elif BMI >= 27:\n",
    "            bmi_str = '輕度肥胖'\n",
    "        elif BMI >= 24:\n",
    "            bmi_str = '過重'\n",
    "        elif BMI >= 18.5:\n",
    "            bmi_str = '正常範圍'\n",
    "        else:\n",
    "            bmi_str = '過輕'\n",
    "        return bmi_str\n",
    "    \n",
    "while(True):\n",
    "    try:\n",
    "        name = input(\"姓名:\")\n",
    "        height = float(input(\"請輸入身高(公分):\"))\n",
    "        weight = float(input(\"請輸入體重(公斤):\"))\n",
    "        p1 = BMI(name=name,height=height,weight=weight)   \n",
    "        break\n",
    "    except Exception:\n",
    "        print('輸入格式錯誤,請重新輸入!')\n",
    "    \n",
    "print(f\"您的名字是{p1.name}\\n您的BMI值是{p1.get_BMI()}\\n您的體重{p1.get_status()}\")\n",
    "print(\"程式結束\")"
   ]
  }
 ],
 "metadata": {
  "kernelspec": {
   "display_name": "base",
   "language": "python",
   "name": "python3"
  },
  "language_info": {
   "codemirror_mode": {
    "name": "ipython",
    "version": 3
   },
   "file_extension": ".py",
   "mimetype": "text/x-python",
   "name": "python",
   "nbconvert_exporter": "python",
   "pygments_lexer": "ipython3",
   "version": "3.12.4"
  }
 },
 "nbformat": 4,
 "nbformat_minor": 2
}
