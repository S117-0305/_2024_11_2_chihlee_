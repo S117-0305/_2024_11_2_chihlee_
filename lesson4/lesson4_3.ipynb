{
 "cells": [
  {
   "cell_type": "code",
   "execution_count": 40,
   "metadata": {},
   "outputs": [],
   "source": [
    "class Person:\n",
    "    def __init__(self,name:str,age:int):\n",
    "        self.name = name #attribute\n",
    "        self.age  = age  #attribute\n",
    "\n",
    "    #實體方法(instance method)\n",
    "    def echo(self):\n",
    "        print(f\"我的名字是:{self.name}\")\n",
    "        print(f\"我的年齡是:{self.age}\")"
   ]
  },
  {
   "cell_type": "code",
   "execution_count": 52,
   "metadata": {},
   "outputs": [],
   "source": [
    "class Student(Person):\n",
    "    def __init__(self,name:str,age:int,score:int):\n",
    "      super().__init__(name=name,age=age)\n",
    "      self.__score = score\n",
    "    \n",
    "    @property\n",
    "    def score(self)->int:\n",
    "       return self.__score\n",
    "\n",
    "    def echo(self):\n",
    "       super().echo()\n",
    "       print(f\"我的分數是:{self.score}\")"
   ]
  },
  {
   "cell_type": "code",
   "execution_count": 58,
   "metadata": {},
   "outputs": [
    {
     "name": "stdout",
     "output_type": "stream",
     "text": [
      "我的名字是:小羅\n",
      "我的年齡是:18\n",
      "我的分數是:250\n"
     ]
    }
   ],
   "source": [
    "s1 : Student = Student (\"小羅\", age = 18,score=250)\n",
    "s1.score\n",
    "s1.echo()\n"
   ]
  },
  {
   "cell_type": "code",
   "execution_count": 51,
   "metadata": {},
   "outputs": [
    {
     "name": "stdout",
     "output_type": "stream",
     "text": [
      "我的名字是:小林\n",
      "我的年齡是:22\n",
      "我的分數是:1000\n"
     ]
    }
   ],
   "source": [
    "s2 : Student = Student (\"小林\", age = 22,score=1000)\n",
    "s2.echo()"
   ]
  }
 ],
 "metadata": {
  "kernelspec": {
   "display_name": "base",
   "language": "python",
   "name": "python3"
  },
  "language_info": {
   "codemirror_mode": {
    "name": "ipython",
    "version": 3
   },
   "file_extension": ".py",
   "mimetype": "text/x-python",
   "name": "python",
   "nbconvert_exporter": "python",
   "pygments_lexer": "ipython3",
   "version": "3.12.2"
  }
 },
 "nbformat": 4,
 "nbformat_minor": 2
}
