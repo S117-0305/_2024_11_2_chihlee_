{
 "cells": [
  {
   "cell_type": "code",
   "execution_count": 1,
   "metadata": {},
   "outputs": [
    {
     "name": "stdout",
     "output_type": "stream",
     "text": [
      "您的身高、體重為123公分、50公斤。BMI為 33，異常範圍，中度肥胖\n"
     ]
    }
   ],
   "source": [
    "def calculate_bmi(height: int, weight: int) -> float:\n",
    "    return weight / (height / 100) ** 2\n",
    "\n",
    "def get_status(Bmi:float)->str:\n",
    "    \n",
    "    if BMI < 18.5:\n",
    "      return \"體重過輕\"\n",
    "    elif BMI < 24 :\n",
    "      return \"正常範圍\"\n",
    "    elif BMI < 27:\n",
    "      return \"異常範圍，過重\"\n",
    "    elif BMI < 30:\n",
    "      return \"異常範圍，輕度肥胖\"\n",
    "    elif BMI < 35:\n",
    "      return \"異常範圍，中度肥胖\"\n",
    "    else:\n",
    "      return \"異常範圍，重度肥胖\"\n",
    "\n",
    "while (True):\n",
    "    \n",
    "    try:\n",
    "      height = int(input(\"請輸入身高(cm): \"))\n",
    "      weight = int(input(\"請輸入體重(kg): \"))\n",
    "      BMI = calculate_bmi(height,weight)\n",
    "      Health = get_status(BMI)\n",
    "      print(f\"您的身高、體重為{height}公分、{weight}公斤。BMI為 {int(BMI)}，{Health}\")\n",
    "      break\n",
    "    except Exception:\n",
    "      print(\"發生錯誤!，請重新輸入正確數值\")"
   ]
  }
 ],
 "metadata": {
  "kernelspec": {
   "display_name": "base",
   "language": "python",
   "name": "python3"
  },
  "language_info": {
   "codemirror_mode": {
    "name": "ipython",
    "version": 3
   },
   "file_extension": ".py",
   "mimetype": "text/x-python",
   "name": "python",
   "nbconvert_exporter": "python",
   "pygments_lexer": "ipython3",
   "version": "3.12.4"
  }
 },
 "nbformat": 4,
 "nbformat_minor": 2
}
