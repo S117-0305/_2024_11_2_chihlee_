{
 "cells": [
  {
   "cell_type": "code",
   "execution_count": null,
   "metadata": {},
   "outputs": [],
   "source": [
    "#typehint\n",
    "#變數，參數，return\n",
    "i:int = 10"
   ]
  },
  {
   "cell_type": "code",
   "execution_count": null,
   "metadata": {},
   "outputs": [],
   "source": [
    "#python是first class程式語言\n",
    "#function也有型別\n",
    "#變數可以儲存function\n",
    "#function可以當作參數\n",
    "#function可以當作傳出值"
   ]
  },
  {
   "cell_type": "code",
   "execution_count": 6,
   "metadata": {},
   "outputs": [
    {
     "data": {
      "text/plain": [
       "19"
      ]
     },
     "execution_count": 6,
     "metadata": {},
     "output_type": "execute_result"
    }
   ],
   "source": [
    "from typing import Callable\n",
    "\n",
    "myfunction = Callable[[int,int],int]\n",
    "\n",
    "def add(a:int,b:int) -> int:\n",
    "    return a + b\n",
    "\n",
    "myfun:myfunction = add\n",
    "\n",
    "myfun(10,9)"
   ]
  },
  {
   "cell_type": "code",
   "execution_count": null,
   "metadata": {},
   "outputs": [],
   "source": [
    "#decorator的功能\n",
    "\n",
    "def decorator_function(original_function):\n",
    "    def wrapper_function():\n",
    "        print(\"function開始\")\n",
    "        original_function()\n",
    "        print(\"function結束\")\n",
    "    return wrapper_function\n",
    "\n",
    "def say_hello():\n",
    "    print(\"您好:robert\")\n",
    "    print(\"您好:jenny\")\n",
    "\n",
    "newFunction = decorator_function(say_hello)\n",
    "newFunction()"
   ]
  },
  {
   "cell_type": "code",
   "execution_count": null,
   "metadata": {},
   "outputs": [],
   "source": [
    "@decorator_function\n",
    "def abc():\n",
    "    print(\"您好:robert\")\n",
    "    print(\"您好:jenny\")\n",
    "\n",
    "abc()"
   ]
  }
 ],
 "metadata": {
  "kernelspec": {
   "display_name": "base",
   "language": "python",
   "name": "python3"
  },
  "language_info": {
   "codemirror_mode": {
    "name": "ipython",
    "version": 3
   },
   "file_extension": ".py",
   "mimetype": "text/x-python",
   "name": "python",
   "nbconvert_exporter": "python",
   "pygments_lexer": "ipython3",
   "version": "3.12.3"
  }
 },
 "nbformat": 4,
 "nbformat_minor": 2
}
