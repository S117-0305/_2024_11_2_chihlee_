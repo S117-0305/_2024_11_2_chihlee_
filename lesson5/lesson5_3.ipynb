{
 "cells": [
  {
   "cell_type": "code",
   "execution_count": 2,
   "metadata": {},
   "outputs": [
    {
     "name": "stdout",
     "output_type": "stream",
     "text": [
      "banana\n",
      "10\n",
      "======\n",
      "apple\n",
      "20\n",
      "======\n",
      "cherry\n",
      "30\n",
      "======\n"
     ]
    }
   ],
   "source": [
    "class item:\n",
    "    def __init__(self, name:str, price:int):\n",
    "        self.name = name\n",
    "        self.price = price\n",
    "\n",
    "items = [\n",
    "         item('apple',20),\n",
    "         item('banana',10),\n",
    "         item('cherry',30)]\n",
    "\n",
    "def abc(x:item):\n",
    "    return x.price\n",
    "\n",
    "newitems = sorted(items,key=abc)\n",
    "for item in newitems:\n",
    "    print(item.name)\n",
    "    print(item.price)\n",
    "    print(\"======\")"
   ]
  },
  {
   "cell_type": "code",
   "execution_count": 6,
   "metadata": {},
   "outputs": [
    {
     "name": "stdout",
     "output_type": "stream",
     "text": [
      "cherry\n",
      "30\n",
      "======\n",
      "apple\n",
      "20\n",
      "======\n",
      "banana\n",
      "10\n",
      "======\n"
     ]
    }
   ],
   "source": [
    "class item:\n",
    "    def __init__(self, name:str, price:int):\n",
    "        self.name = name\n",
    "        self.price = price\n",
    "\n",
    "items = [\n",
    "         item('apple',20),\n",
    "         item('banana',10),\n",
    "         item('cherry',30)]\n",
    "\n",
    "# def abc(x:item):\n",
    "#    return x.price\n",
    "\n",
    "newitems = sorted(items,key=lambda x:x.price,reverse=True)\n",
    "for item in newitems:\n",
    "    print(item.name)\n",
    "    print(item.price)\n",
    "    print(\"======\")"
   ]
  },
  {
   "cell_type": "code",
   "execution_count": 12,
   "metadata": {},
   "outputs": [],
   "source": [
    "items:list [dict] = [\n",
    "    {\"name\":\"apple\",\"price\":20},\n",
    "    {\"name\":\"banana\",\"price\":10},\n",
    "    {\"name\":\"cherry\",\"price\":30}]"
   ]
  },
  {
   "cell_type": "code",
   "execution_count": 10,
   "metadata": {},
   "outputs": [
    {
     "data": {
      "text/plain": [
       "('apple', 20)"
      ]
     },
     "execution_count": 10,
     "metadata": {},
     "output_type": "execute_result"
    }
   ],
   "source": [
    "item:dict={\"name\":\"apple\",\n",
    "           \"price\":20}\n",
    "\n",
    "item['name'],item['price']"
   ]
  }
 ],
 "metadata": {
  "kernelspec": {
   "display_name": "base",
   "language": "python",
   "name": "python3"
  },
  "language_info": {
   "codemirror_mode": {
    "name": "ipython",
    "version": 3
   },
   "file_extension": ".py",
   "mimetype": "text/x-python",
   "name": "python",
   "nbconvert_exporter": "python",
   "pygments_lexer": "ipython3",
   "version": "3.12.2"
  }
 },
 "nbformat": 4,
 "nbformat_minor": 2
}
