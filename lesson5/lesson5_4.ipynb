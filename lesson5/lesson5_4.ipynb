{
 "cells": [
  {
   "cell_type": "code",
   "execution_count": 3,
   "metadata": {},
   "outputs": [
    {
     "data": {
      "text/plain": [
       "[{'name': 'cherry', 'price': 30},\n",
       " {'name': 'apple', 'price': 20},\n",
       " {'name': 'banana', 'price': 10}]"
      ]
     },
     "execution_count": 3,
     "metadata": {},
     "output_type": "execute_result"
    }
   ],
   "source": [
    "items:list [dict] = [\n",
    "    {\"name\":\"apple\",\"price\":20},\n",
    "    {\"name\":\"banana\",\"price\":10},\n",
    "    {\"name\":\"cherry\",\"price\":30}]\n",
    "\n",
    "sorted(items,key=lambda x:x['price'],reverse=True)"
   ]
  },
  {
   "cell_type": "code",
   "execution_count": 6,
   "metadata": {},
   "outputs": [
    {
     "data": {
      "text/plain": [
       "('robert', 35, 180, 80)"
      ]
     },
     "execution_count": 6,
     "metadata": {},
     "output_type": "execute_result"
    }
   ],
   "source": [
    "name , age , height ,weight =\"robert\", 35 , 180 , 80 \n",
    "name , age , height ,weight"
   ]
  },
  {
   "cell_type": "code",
   "execution_count": 7,
   "metadata": {},
   "outputs": [
    {
     "name": "stdout",
     "output_type": "stream",
     "text": [
      "name\n",
      "price\n"
     ]
    }
   ],
   "source": [
    "for key in {\"name\":\"apple\",\"price\":20}:\n",
    "    print(key)"
   ]
  },
  {
   "cell_type": "code",
   "execution_count": 9,
   "metadata": {},
   "outputs": [
    {
     "name": "stdout",
     "output_type": "stream",
     "text": [
      "name\n",
      "price\n"
     ]
    }
   ],
   "source": [
    "for key in {\"name\":\"apple\",\"price\":20}.keys():\n",
    "    print(key)"
   ]
  },
  {
   "cell_type": "code",
   "execution_count": 13,
   "metadata": {},
   "outputs": [
    {
     "name": "stdout",
     "output_type": "stream",
     "text": [
      "apple\n",
      "20\n"
     ]
    }
   ],
   "source": [
    "for value in {\"name\":\"apple\",\"price\":20}.values():\n",
    "    print(value)"
   ]
  },
  {
   "cell_type": "code",
   "execution_count": 14,
   "metadata": {},
   "outputs": [
    {
     "name": "stdout",
     "output_type": "stream",
     "text": [
      "name\n",
      "apple\n",
      "=======\n",
      "price\n",
      "20\n",
      "=======\n"
     ]
    }
   ],
   "source": [
    "for key,value in {\"name\":\"apple\",\"price\":20}.items():\n",
    "    print(key)\n",
    "    print(value)\n",
    "    print(\"=======\")\n"
   ]
  }
 ],
 "metadata": {
  "kernelspec": {
   "display_name": "base",
   "language": "python",
   "name": "python3"
  },
  "language_info": {
   "codemirror_mode": {
    "name": "ipython",
    "version": 3
   },
   "file_extension": ".py",
   "mimetype": "text/x-python",
   "name": "python",
   "nbconvert_exporter": "python",
   "pygments_lexer": "ipython3",
   "version": "3.12.2"
  }
 },
 "nbformat": 4,
 "nbformat_minor": 2
}
