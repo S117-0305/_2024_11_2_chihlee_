{
 "cells": [
  {
   "cell_type": "code",
   "execution_count": 1,
   "metadata": {},
   "outputs": [
    {
     "name": "stderr",
     "output_type": "stream",
     "text": [
      "2024-12-21 03:34:01.907 WARNING streamlit.runtime.caching.cache_data_api: No runtime found, using MemoryCacheStorageManager\n",
      "2024-12-21 03:34:01.911 WARNING streamlit.runtime.caching.cache_data_api: No runtime found, using MemoryCacheStorageManager\n",
      "2024-12-21 03:34:01.912 WARNING streamlit.runtime.scriptrunner_utils.script_run_context: Thread 'MainThread': missing ScriptRunContext! This warning can be ignored when running in bare mode.\n",
      "2024-12-21 03:34:01.961 \n",
      "  \u001b[33m\u001b[1mWarning:\u001b[0m to view this Streamlit app on a browser, run it with the following\n",
      "  command:\n",
      "\n",
      "    streamlit run /opt/conda/lib/python3.12/site-packages/ipykernel_launcher.py [ARGUMENTS]\n",
      "2024-12-21 03:34:01.961 Thread 'MainThread': missing ScriptRunContext! This warning can be ignored when running in bare mode.\n",
      "2024-12-21 03:34:01.962 Thread 'MainThread': missing ScriptRunContext! This warning can be ignored when running in bare mode.\n",
      "2024-12-21 03:34:02.247 Thread 'MainThread': missing ScriptRunContext! This warning can be ignored when running in bare mode.\n",
      "2024-12-21 03:34:02.248 Thread 'MainThread': missing ScriptRunContext! This warning can be ignored when running in bare mode.\n",
      "2024-12-21 03:34:02.248 Thread 'MainThread': missing ScriptRunContext! This warning can be ignored when running in bare mode.\n",
      "2024-12-21 03:34:02.248 Thread 'MainThread': missing ScriptRunContext! This warning can be ignored when running in bare mode.\n",
      "2024-12-21 03:34:02.248 Thread 'MainThread': missing ScriptRunContext! This warning can be ignored when running in bare mode.\n",
      "2024-12-21 03:34:02.249 Thread 'MainThread': missing ScriptRunContext! This warning can be ignored when running in bare mode.\n",
      "2024-12-21 03:34:02.249 Thread 'MainThread': missing ScriptRunContext! This warning can be ignored when running in bare mode.\n",
      "2024-12-21 03:34:02.249 Thread 'MainThread': missing ScriptRunContext! This warning can be ignored when running in bare mode.\n",
      "2024-12-21 03:34:02.250 Thread 'MainThread': missing ScriptRunContext! This warning can be ignored when running in bare mode.\n",
      "2024-12-21 03:34:02.250 Session state does not function when running a script without `streamlit run`\n",
      "2024-12-21 03:34:02.251 Thread 'MainThread': missing ScriptRunContext! This warning can be ignored when running in bare mode.\n",
      "2024-12-21 03:34:02.251 Thread 'MainThread': missing ScriptRunContext! This warning can be ignored when running in bare mode.\n",
      "2024-12-21 03:34:02.251 Thread 'MainThread': missing ScriptRunContext! This warning can be ignored when running in bare mode.\n"
     ]
    },
    {
     "name": "stdout",
     "output_type": "stream",
     "text": [
      "資料下載成功\n"
     ]
    },
    {
     "name": "stderr",
     "output_type": "stream",
     "text": [
      "2024-12-21 03:34:02.695 Thread 'MainThread': missing ScriptRunContext! This warning can be ignored when running in bare mode.\n",
      "2024-12-21 03:34:02.695 Thread 'MainThread': missing ScriptRunContext! This warning can be ignored when running in bare mode.\n"
     ]
    },
    {
     "ename": "StreamlitAPIException",
     "evalue": "Map data must contain a longitude column named: 'LON', 'LONGITUDE', 'lon', 'longitude'. Existing columns: '\\ufeff\"sno\"', 'sna', 'tot', 'sbi', 'sarea', 'mday', 'lat', 'lng', 'ar', 'sareaen', 'snaen', 'aren', 'bemp', 'act'",
     "output_type": "error",
     "traceback": [
      "\u001b[0;31m---------------------------------------------------------------------------\u001b[0m",
      "\u001b[0;31mStreamlitAPIException\u001b[0m                     Traceback (most recent call last)",
      "Cell \u001b[0;32mIn[1], line 11\u001b[0m\n\u001b[1;32m      9\u001b[0m filtered_data \u001b[38;5;241m=\u001b[39m [item \u001b[38;5;28;01mfor\u001b[39;00m item \u001b[38;5;129;01min\u001b[39;00m youbike_data \u001b[38;5;28;01mif\u001b[39;00m item[\u001b[38;5;124m'\u001b[39m\u001b[38;5;124msarea\u001b[39m\u001b[38;5;124m'\u001b[39m] \u001b[38;5;241m==\u001b[39m selected_sarea]\n\u001b[1;32m     10\u001b[0m col2\u001b[38;5;241m.\u001b[39mtable(filtered_data)\n\u001b[0;32m---> 11\u001b[0m \u001b[43mst\u001b[49m\u001b[38;5;241;43m.\u001b[39;49m\u001b[43mmap\u001b[49m\u001b[43m(\u001b[49m\u001b[43mfiltered_data\u001b[49m\u001b[43m)\u001b[49m\n",
      "File \u001b[0;32m/opt/conda/lib/python3.12/site-packages/streamlit/runtime/metrics_util.py:409\u001b[0m, in \u001b[0;36mgather_metrics.<locals>.wrapped_func\u001b[0;34m(*args, **kwargs)\u001b[0m\n\u001b[1;32m    407\u001b[0m         _LOGGER\u001b[38;5;241m.\u001b[39mdebug(\u001b[38;5;124m\"\u001b[39m\u001b[38;5;124mFailed to collect command telemetry\u001b[39m\u001b[38;5;124m\"\u001b[39m, exc_info\u001b[38;5;241m=\u001b[39mex)\n\u001b[1;32m    408\u001b[0m \u001b[38;5;28;01mtry\u001b[39;00m:\n\u001b[0;32m--> 409\u001b[0m     result \u001b[38;5;241m=\u001b[39m \u001b[43mnon_optional_func\u001b[49m\u001b[43m(\u001b[49m\u001b[38;5;241;43m*\u001b[39;49m\u001b[43margs\u001b[49m\u001b[43m,\u001b[49m\u001b[43m \u001b[49m\u001b[38;5;241;43m*\u001b[39;49m\u001b[38;5;241;43m*\u001b[39;49m\u001b[43mkwargs\u001b[49m\u001b[43m)\u001b[49m\n\u001b[1;32m    410\u001b[0m \u001b[38;5;28;01mexcept\u001b[39;00m RerunException \u001b[38;5;28;01mas\u001b[39;00m ex:\n\u001b[1;32m    411\u001b[0m     \u001b[38;5;66;03m# Duplicated from below, because static analysis tools get confused\u001b[39;00m\n\u001b[1;32m    412\u001b[0m     \u001b[38;5;66;03m# by deferring the rethrow.\u001b[39;00m\n\u001b[1;32m    413\u001b[0m     \u001b[38;5;28;01mif\u001b[39;00m tracking_activated \u001b[38;5;129;01mand\u001b[39;00m command_telemetry:\n",
      "File \u001b[0;32m/opt/conda/lib/python3.12/site-packages/streamlit/elements/map.py:240\u001b[0m, in \u001b[0;36mMapMixin.map\u001b[0;34m(self, data, latitude, longitude, color, size, zoom, use_container_width, width, height)\u001b[0m\n\u001b[1;32m    238\u001b[0m map_style \u001b[38;5;241m=\u001b[39m \u001b[38;5;28;01mNone\u001b[39;00m\n\u001b[1;32m    239\u001b[0m map_proto \u001b[38;5;241m=\u001b[39m DeckGlJsonChartProto()\n\u001b[0;32m--> 240\u001b[0m deck_gl_json \u001b[38;5;241m=\u001b[39m \u001b[43mto_deckgl_json\u001b[49m\u001b[43m(\u001b[49m\n\u001b[1;32m    241\u001b[0m \u001b[43m    \u001b[49m\u001b[43mdata\u001b[49m\u001b[43m,\u001b[49m\u001b[43m \u001b[49m\u001b[43mlatitude\u001b[49m\u001b[43m,\u001b[49m\u001b[43m \u001b[49m\u001b[43mlongitude\u001b[49m\u001b[43m,\u001b[49m\u001b[43m \u001b[49m\u001b[43msize\u001b[49m\u001b[43m,\u001b[49m\u001b[43m \u001b[49m\u001b[43mcolor\u001b[49m\u001b[43m,\u001b[49m\u001b[43m \u001b[49m\u001b[43mmap_style\u001b[49m\u001b[43m,\u001b[49m\u001b[43m \u001b[49m\u001b[43mzoom\u001b[49m\n\u001b[1;32m    242\u001b[0m \u001b[43m\u001b[49m\u001b[43m)\u001b[49m\n\u001b[1;32m    243\u001b[0m marshall(\n\u001b[1;32m    244\u001b[0m     map_proto, deck_gl_json, use_container_width, width\u001b[38;5;241m=\u001b[39mwidth, height\u001b[38;5;241m=\u001b[39mheight\n\u001b[1;32m    245\u001b[0m )\n\u001b[1;32m    246\u001b[0m \u001b[38;5;28;01mreturn\u001b[39;00m \u001b[38;5;28mself\u001b[39m\u001b[38;5;241m.\u001b[39mdg\u001b[38;5;241m.\u001b[39m_enqueue(\u001b[38;5;124m\"\u001b[39m\u001b[38;5;124mdeck_gl_json_chart\u001b[39m\u001b[38;5;124m\"\u001b[39m, map_proto)\n",
      "File \u001b[0;32m/opt/conda/lib/python3.12/site-packages/streamlit/elements/map.py:275\u001b[0m, in \u001b[0;36mto_deckgl_json\u001b[0;34m(data, lat, lon, size, color, map_style, zoom)\u001b[0m\n\u001b[1;32m    272\u001b[0m df \u001b[38;5;241m=\u001b[39m dataframe_util\u001b[38;5;241m.\u001b[39mconvert_anything_to_pandas_df(data)\n\u001b[1;32m    274\u001b[0m lat_col_name \u001b[38;5;241m=\u001b[39m _get_lat_or_lon_col_name(df, \u001b[38;5;124m\"\u001b[39m\u001b[38;5;124mlatitude\u001b[39m\u001b[38;5;124m\"\u001b[39m, lat, _DEFAULT_LAT_COL_NAMES)\n\u001b[0;32m--> 275\u001b[0m lon_col_name \u001b[38;5;241m=\u001b[39m \u001b[43m_get_lat_or_lon_col_name\u001b[49m\u001b[43m(\u001b[49m\n\u001b[1;32m    276\u001b[0m \u001b[43m    \u001b[49m\u001b[43mdf\u001b[49m\u001b[43m,\u001b[49m\u001b[43m \u001b[49m\u001b[38;5;124;43m\"\u001b[39;49m\u001b[38;5;124;43mlongitude\u001b[39;49m\u001b[38;5;124;43m\"\u001b[39;49m\u001b[43m,\u001b[49m\u001b[43m \u001b[49m\u001b[43mlon\u001b[49m\u001b[43m,\u001b[49m\u001b[43m \u001b[49m\u001b[43m_DEFAULT_LON_COL_NAMES\u001b[49m\n\u001b[1;32m    277\u001b[0m \u001b[43m\u001b[49m\u001b[43m)\u001b[49m\n\u001b[1;32m    278\u001b[0m size_arg, size_col_name \u001b[38;5;241m=\u001b[39m _get_value_and_col_name(df, size, _DEFAULT_SIZE)\n\u001b[1;32m    279\u001b[0m color_arg, color_col_name \u001b[38;5;241m=\u001b[39m _get_value_and_col_name(df, color, _DEFAULT_COLOR)\n",
      "File \u001b[0;32m/opt/conda/lib/python3.12/site-packages/streamlit/elements/map.py:349\u001b[0m, in \u001b[0;36m_get_lat_or_lon_col_name\u001b[0;34m(data, human_readable_name, col_name_from_user, default_col_names)\u001b[0m\n\u001b[1;32m    346\u001b[0m     formatted_allowed_col_name \u001b[38;5;241m=\u001b[39m \u001b[38;5;124m\"\u001b[39m\u001b[38;5;124m, \u001b[39m\u001b[38;5;124m\"\u001b[39m\u001b[38;5;241m.\u001b[39mjoin(\u001b[38;5;28mmap\u001b[39m(\u001b[38;5;28mrepr\u001b[39m, \u001b[38;5;28msorted\u001b[39m(default_col_names)))\n\u001b[1;32m    347\u001b[0m     formmated_col_names \u001b[38;5;241m=\u001b[39m \u001b[38;5;124m\"\u001b[39m\u001b[38;5;124m, \u001b[39m\u001b[38;5;124m\"\u001b[39m\u001b[38;5;241m.\u001b[39mjoin(\u001b[38;5;28mmap\u001b[39m(\u001b[38;5;28mrepr\u001b[39m, \u001b[38;5;28mlist\u001b[39m(data\u001b[38;5;241m.\u001b[39mcolumns)))\n\u001b[0;32m--> 349\u001b[0m     \u001b[38;5;28;01mraise\u001b[39;00m StreamlitAPIException(\n\u001b[1;32m    350\u001b[0m         \u001b[38;5;124mf\u001b[39m\u001b[38;5;124m\"\u001b[39m\u001b[38;5;124mMap data must contain a \u001b[39m\u001b[38;5;132;01m{\u001b[39;00mhuman_readable_name\u001b[38;5;132;01m}\u001b[39;00m\u001b[38;5;124m column named: \u001b[39m\u001b[38;5;124m\"\u001b[39m\n\u001b[1;32m    351\u001b[0m         \u001b[38;5;124mf\u001b[39m\u001b[38;5;124m\"\u001b[39m\u001b[38;5;132;01m{\u001b[39;00mformatted_allowed_col_name\u001b[38;5;132;01m}\u001b[39;00m\u001b[38;5;124m. Existing columns: \u001b[39m\u001b[38;5;132;01m{\u001b[39;00mformmated_col_names\u001b[38;5;132;01m}\u001b[39;00m\u001b[38;5;124m\"\u001b[39m\n\u001b[1;32m    352\u001b[0m     )\n\u001b[1;32m    353\u001b[0m \u001b[38;5;28;01melse\u001b[39;00m:\n\u001b[1;32m    354\u001b[0m     col_name \u001b[38;5;241m=\u001b[39m candidate_col_name\n",
      "\u001b[0;31mStreamlitAPIException\u001b[0m: Map data must contain a longitude column named: 'LON', 'LONGITUDE', 'lon', 'longitude'. Existing columns: '\\ufeff\"sno\"', 'sna', 'tot', 'sbi', 'sarea', 'mday', 'lat', 'lng', 'ar', 'sareaen', 'snaen', 'aren', 'bemp', 'act'"
     ]
    }
   ],
   "source": [
    "from tools import fetch_youbike_data\n",
    "import streamlit as st\n",
    "\n",
    "youbike_data:list[dict] = fetch_youbike_data()\n",
    "\n",
    "col1, col2 = st.columns(2)\n",
    "sareas = list(set([item['sarea'] for item in youbike_data]))\n",
    "selected_sarea = col1.selectbox('選擇行政區域', sareas)\n",
    "filtered_data = [item for item in youbike_data if item['sarea'] == selected_sarea]\n",
    "col2.table(filtered_data)\n",
    "st.map(filtered_data)\n"
   ]
  }
 ],
 "metadata": {
  "kernelspec": {
   "display_name": "base",
   "language": "python",
   "name": "python3"
  },
  "language_info": {
   "codemirror_mode": {
    "name": "ipython",
    "version": 3
   },
   "file_extension": ".py",
   "mimetype": "text/x-python",
   "name": "python",
   "nbconvert_exporter": "python",
   "pygments_lexer": "ipython3",
   "version": "3.12.2"
  }
 },
 "nbformat": 4,
 "nbformat_minor": 2
}
